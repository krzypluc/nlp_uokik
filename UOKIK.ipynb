{
  "nbformat": 4,
  "nbformat_minor": 0,
  "metadata": {
    "colab": {
      "name": "ZaliczenieNLP",
      "provenance": [],
      "collapsed_sections": [
        "_EAISUZuAnrO"
      ]
    },
    "kernelspec": {
      "name": "python3",
      "display_name": "Python 3"
    },
    "language_info": {
      "name": "python"
    },
    "accelerator": "GPU"
  },
  "cells": [
    {
      "cell_type": "markdown",
      "source": [
        "# Imports"
      ],
      "metadata": {
        "id": "BBFvqIkfAhdF"
      }
    },
    {
      "cell_type": "code",
      "source": [
        "!pip install unidecode\n",
        "!pip install -U pip setuptools wheel\n",
        "!pip install -U spacy\n",
        "!python -m spacy download pl_core_news_lg\n",
        "!pip install -q -U keras-tuner\n",
        "!pip install '/content/drive/MyDrive/NLP ICM/morfeusz2-1.99.5-20220529-cp310.cp35.cp36.cp37.cp38.cp39-abi3-linux_x86_64.whl'"
      ],
      "metadata": {
        "colab": {
          "base_uri": "https://localhost:8080/"
        },
        "id": "HoNVw0eJ3lB6",
        "outputId": "ccc700ee-ec3f-46e5-fdc8-5d0525d19256"
      },
      "execution_count": null,
      "outputs": [
        {
          "output_type": "stream",
          "name": "stdout",
          "text": [
            "Looking in indexes: https://pypi.org/simple, https://us-python.pkg.dev/colab-wheels/public/simple/\n",
            "Requirement already satisfied: unidecode in /usr/local/lib/python3.7/dist-packages (1.3.4)\n",
            "\u001b[33mWARNING: Running pip as the 'root' user can result in broken permissions and conflicting behaviour with the system package manager. It is recommended to use a virtual environment instead: https://pip.pypa.io/warnings/venv\u001b[0m\u001b[33m\n",
            "\u001b[0mLooking in indexes: https://pypi.org/simple, https://us-python.pkg.dev/colab-wheels/public/simple/\n",
            "Requirement already satisfied: pip in /usr/local/lib/python3.7/dist-packages (22.1.2)\n",
            "Requirement already satisfied: setuptools in /usr/local/lib/python3.7/dist-packages (62.3.2)\n",
            "Requirement already satisfied: wheel in /usr/local/lib/python3.7/dist-packages (0.37.1)\n",
            "\u001b[33mWARNING: Running pip as the 'root' user can result in broken permissions and conflicting behaviour with the system package manager. It is recommended to use a virtual environment instead: https://pip.pypa.io/warnings/venv\u001b[0m\u001b[33m\n",
            "\u001b[0mLooking in indexes: https://pypi.org/simple, https://us-python.pkg.dev/colab-wheels/public/simple/\n",
            "Requirement already satisfied: spacy in /usr/local/lib/python3.7/dist-packages (3.3.0)\n",
            "Requirement already satisfied: requests<3.0.0,>=2.13.0 in /usr/local/lib/python3.7/dist-packages (from spacy) (2.23.0)\n",
            "Requirement already satisfied: preshed<3.1.0,>=3.0.2 in /usr/local/lib/python3.7/dist-packages (from spacy) (3.0.6)\n",
            "Requirement already satisfied: pydantic!=1.8,!=1.8.1,<1.9.0,>=1.7.4 in /usr/local/lib/python3.7/dist-packages (from spacy) (1.8.2)\n",
            "Requirement already satisfied: jinja2 in /usr/local/lib/python3.7/dist-packages (from spacy) (2.11.3)\n",
            "Requirement already satisfied: murmurhash<1.1.0,>=0.28.0 in /usr/local/lib/python3.7/dist-packages (from spacy) (1.0.7)\n",
            "Requirement already satisfied: langcodes<4.0.0,>=3.2.0 in /usr/local/lib/python3.7/dist-packages (from spacy) (3.3.0)\n",
            "Requirement already satisfied: srsly<3.0.0,>=2.4.3 in /usr/local/lib/python3.7/dist-packages (from spacy) (2.4.3)\n",
            "Requirement already satisfied: spacy-loggers<2.0.0,>=1.0.0 in /usr/local/lib/python3.7/dist-packages (from spacy) (1.0.2)\n",
            "Requirement already satisfied: spacy-legacy<3.1.0,>=3.0.9 in /usr/local/lib/python3.7/dist-packages (from spacy) (3.0.9)\n",
            "Requirement already satisfied: cymem<2.1.0,>=2.0.2 in /usr/local/lib/python3.7/dist-packages (from spacy) (2.0.6)\n",
            "Requirement already satisfied: thinc<8.1.0,>=8.0.14 in /usr/local/lib/python3.7/dist-packages (from spacy) (8.0.17)\n",
            "Requirement already satisfied: blis<0.8.0,>=0.4.0 in /usr/local/lib/python3.7/dist-packages (from spacy) (0.4.1)\n",
            "Requirement already satisfied: catalogue<2.1.0,>=2.0.6 in /usr/local/lib/python3.7/dist-packages (from spacy) (2.0.7)\n",
            "Requirement already satisfied: wasabi<1.1.0,>=0.9.1 in /usr/local/lib/python3.7/dist-packages (from spacy) (0.9.1)\n",
            "Requirement already satisfied: typing-extensions<4.0.0.0,>=3.7.4 in /usr/local/lib/python3.7/dist-packages (from spacy) (3.10.0.2)\n",
            "Requirement already satisfied: numpy>=1.15.0 in /usr/local/lib/python3.7/dist-packages (from spacy) (1.21.6)\n",
            "Requirement already satisfied: setuptools in /usr/local/lib/python3.7/dist-packages (from spacy) (62.3.2)\n",
            "Requirement already satisfied: pathy>=0.3.5 in /usr/local/lib/python3.7/dist-packages (from spacy) (0.6.1)\n",
            "Requirement already satisfied: tqdm<5.0.0,>=4.38.0 in /usr/local/lib/python3.7/dist-packages (from spacy) (4.64.0)\n",
            "Requirement already satisfied: packaging>=20.0 in /usr/local/lib/python3.7/dist-packages (from spacy) (21.3)\n",
            "Requirement already satisfied: typer<0.5.0,>=0.3.0 in /usr/local/lib/python3.7/dist-packages (from spacy) (0.4.1)\n",
            "Requirement already satisfied: zipp>=0.5 in /usr/local/lib/python3.7/dist-packages (from catalogue<2.1.0,>=2.0.6->spacy) (3.8.0)\n",
            "Requirement already satisfied: pyparsing!=3.0.5,>=2.0.2 in /usr/local/lib/python3.7/dist-packages (from packaging>=20.0->spacy) (3.0.9)\n",
            "Requirement already satisfied: smart-open<6.0.0,>=5.0.0 in /usr/local/lib/python3.7/dist-packages (from pathy>=0.3.5->spacy) (5.2.1)\n",
            "Requirement already satisfied: idna<3,>=2.5 in /usr/local/lib/python3.7/dist-packages (from requests<3.0.0,>=2.13.0->spacy) (2.10)\n",
            "Requirement already satisfied: urllib3!=1.25.0,!=1.25.1,<1.26,>=1.21.1 in /usr/local/lib/python3.7/dist-packages (from requests<3.0.0,>=2.13.0->spacy) (1.24.3)\n",
            "Requirement already satisfied: certifi>=2017.4.17 in /usr/local/lib/python3.7/dist-packages (from requests<3.0.0,>=2.13.0->spacy) (2022.5.18.1)\n",
            "Requirement already satisfied: chardet<4,>=3.0.2 in /usr/local/lib/python3.7/dist-packages (from requests<3.0.0,>=2.13.0->spacy) (3.0.4)\n",
            "Requirement already satisfied: click<9.0.0,>=7.1.1 in /usr/local/lib/python3.7/dist-packages (from typer<0.5.0,>=0.3.0->spacy) (7.1.2)\n",
            "Requirement already satisfied: MarkupSafe>=0.23 in /usr/local/lib/python3.7/dist-packages (from jinja2->spacy) (2.0.1)\n",
            "\u001b[33mWARNING: Running pip as the 'root' user can result in broken permissions and conflicting behaviour with the system package manager. It is recommended to use a virtual environment instead: https://pip.pypa.io/warnings/venv\u001b[0m\u001b[33m\n",
            "\u001b[0mLooking in indexes: https://pypi.org/simple, https://us-python.pkg.dev/colab-wheels/public/simple/\n",
            "Collecting pl-core-news-lg==3.3.0\n",
            "  Downloading https://github.com/explosion/spacy-models/releases/download/pl_core_news_lg-3.3.0/pl_core_news_lg-3.3.0-py3-none-any.whl (573.6 MB)\n",
            "\u001b[2K     \u001b[90m━━━━━━━━━━━━━━━━━━━━━━━━━━━━━━━━━━━━━━━\u001b[0m \u001b[32m573.6/573.6 MB\u001b[0m \u001b[31m2.9 MB/s\u001b[0m eta \u001b[36m0:00:00\u001b[0m\n",
            "\u001b[?25hRequirement already satisfied: spacy<3.4.0,>=3.3.0.dev0 in /usr/local/lib/python3.7/dist-packages (from pl-core-news-lg==3.3.0) (3.3.0)\n",
            "Requirement already satisfied: srsly<3.0.0,>=2.4.3 in /usr/local/lib/python3.7/dist-packages (from spacy<3.4.0,>=3.3.0.dev0->pl-core-news-lg==3.3.0) (2.4.3)\n",
            "Requirement already satisfied: tqdm<5.0.0,>=4.38.0 in /usr/local/lib/python3.7/dist-packages (from spacy<3.4.0,>=3.3.0.dev0->pl-core-news-lg==3.3.0) (4.64.0)\n",
            "Requirement already satisfied: murmurhash<1.1.0,>=0.28.0 in /usr/local/lib/python3.7/dist-packages (from spacy<3.4.0,>=3.3.0.dev0->pl-core-news-lg==3.3.0) (1.0.7)\n",
            "Requirement already satisfied: cymem<2.1.0,>=2.0.2 in /usr/local/lib/python3.7/dist-packages (from spacy<3.4.0,>=3.3.0.dev0->pl-core-news-lg==3.3.0) (2.0.6)\n",
            "Requirement already satisfied: blis<0.8.0,>=0.4.0 in /usr/local/lib/python3.7/dist-packages (from spacy<3.4.0,>=3.3.0.dev0->pl-core-news-lg==3.3.0) (0.4.1)\n",
            "Requirement already satisfied: numpy>=1.15.0 in /usr/local/lib/python3.7/dist-packages (from spacy<3.4.0,>=3.3.0.dev0->pl-core-news-lg==3.3.0) (1.21.6)\n",
            "Requirement already satisfied: wasabi<1.1.0,>=0.9.1 in /usr/local/lib/python3.7/dist-packages (from spacy<3.4.0,>=3.3.0.dev0->pl-core-news-lg==3.3.0) (0.9.1)\n",
            "Requirement already satisfied: requests<3.0.0,>=2.13.0 in /usr/local/lib/python3.7/dist-packages (from spacy<3.4.0,>=3.3.0.dev0->pl-core-news-lg==3.3.0) (2.23.0)\n",
            "Requirement already satisfied: spacy-loggers<2.0.0,>=1.0.0 in /usr/local/lib/python3.7/dist-packages (from spacy<3.4.0,>=3.3.0.dev0->pl-core-news-lg==3.3.0) (1.0.2)\n",
            "Requirement already satisfied: setuptools in /usr/local/lib/python3.7/dist-packages (from spacy<3.4.0,>=3.3.0.dev0->pl-core-news-lg==3.3.0) (62.3.2)\n",
            "Requirement already satisfied: spacy-legacy<3.1.0,>=3.0.9 in /usr/local/lib/python3.7/dist-packages (from spacy<3.4.0,>=3.3.0.dev0->pl-core-news-lg==3.3.0) (3.0.9)\n",
            "Requirement already satisfied: typer<0.5.0,>=0.3.0 in /usr/local/lib/python3.7/dist-packages (from spacy<3.4.0,>=3.3.0.dev0->pl-core-news-lg==3.3.0) (0.4.1)\n",
            "Requirement already satisfied: pydantic!=1.8,!=1.8.1,<1.9.0,>=1.7.4 in /usr/local/lib/python3.7/dist-packages (from spacy<3.4.0,>=3.3.0.dev0->pl-core-news-lg==3.3.0) (1.8.2)\n",
            "Requirement already satisfied: pathy>=0.3.5 in /usr/local/lib/python3.7/dist-packages (from spacy<3.4.0,>=3.3.0.dev0->pl-core-news-lg==3.3.0) (0.6.1)\n",
            "Requirement already satisfied: packaging>=20.0 in /usr/local/lib/python3.7/dist-packages (from spacy<3.4.0,>=3.3.0.dev0->pl-core-news-lg==3.3.0) (21.3)\n",
            "Requirement already satisfied: thinc<8.1.0,>=8.0.14 in /usr/local/lib/python3.7/dist-packages (from spacy<3.4.0,>=3.3.0.dev0->pl-core-news-lg==3.3.0) (8.0.17)\n",
            "Requirement already satisfied: preshed<3.1.0,>=3.0.2 in /usr/local/lib/python3.7/dist-packages (from spacy<3.4.0,>=3.3.0.dev0->pl-core-news-lg==3.3.0) (3.0.6)\n",
            "Requirement already satisfied: jinja2 in /usr/local/lib/python3.7/dist-packages (from spacy<3.4.0,>=3.3.0.dev0->pl-core-news-lg==3.3.0) (2.11.3)\n",
            "Requirement already satisfied: langcodes<4.0.0,>=3.2.0 in /usr/local/lib/python3.7/dist-packages (from spacy<3.4.0,>=3.3.0.dev0->pl-core-news-lg==3.3.0) (3.3.0)\n",
            "Requirement already satisfied: typing-extensions<4.0.0.0,>=3.7.4 in /usr/local/lib/python3.7/dist-packages (from spacy<3.4.0,>=3.3.0.dev0->pl-core-news-lg==3.3.0) (3.10.0.2)\n",
            "Requirement already satisfied: catalogue<2.1.0,>=2.0.6 in /usr/local/lib/python3.7/dist-packages (from spacy<3.4.0,>=3.3.0.dev0->pl-core-news-lg==3.3.0) (2.0.7)\n",
            "Requirement already satisfied: zipp>=0.5 in /usr/local/lib/python3.7/dist-packages (from catalogue<2.1.0,>=2.0.6->spacy<3.4.0,>=3.3.0.dev0->pl-core-news-lg==3.3.0) (3.8.0)\n",
            "Requirement already satisfied: pyparsing!=3.0.5,>=2.0.2 in /usr/local/lib/python3.7/dist-packages (from packaging>=20.0->spacy<3.4.0,>=3.3.0.dev0->pl-core-news-lg==3.3.0) (3.0.9)\n",
            "Requirement already satisfied: smart-open<6.0.0,>=5.0.0 in /usr/local/lib/python3.7/dist-packages (from pathy>=0.3.5->spacy<3.4.0,>=3.3.0.dev0->pl-core-news-lg==3.3.0) (5.2.1)\n",
            "Requirement already satisfied: certifi>=2017.4.17 in /usr/local/lib/python3.7/dist-packages (from requests<3.0.0,>=2.13.0->spacy<3.4.0,>=3.3.0.dev0->pl-core-news-lg==3.3.0) (2022.5.18.1)\n",
            "Requirement already satisfied: urllib3!=1.25.0,!=1.25.1,<1.26,>=1.21.1 in /usr/local/lib/python3.7/dist-packages (from requests<3.0.0,>=2.13.0->spacy<3.4.0,>=3.3.0.dev0->pl-core-news-lg==3.3.0) (1.24.3)\n",
            "Requirement already satisfied: idna<3,>=2.5 in /usr/local/lib/python3.7/dist-packages (from requests<3.0.0,>=2.13.0->spacy<3.4.0,>=3.3.0.dev0->pl-core-news-lg==3.3.0) (2.10)\n",
            "Requirement already satisfied: chardet<4,>=3.0.2 in /usr/local/lib/python3.7/dist-packages (from requests<3.0.0,>=2.13.0->spacy<3.4.0,>=3.3.0.dev0->pl-core-news-lg==3.3.0) (3.0.4)\n",
            "Requirement already satisfied: click<9.0.0,>=7.1.1 in /usr/local/lib/python3.7/dist-packages (from typer<0.5.0,>=0.3.0->spacy<3.4.0,>=3.3.0.dev0->pl-core-news-lg==3.3.0) (7.1.2)\n",
            "Requirement already satisfied: MarkupSafe>=0.23 in /usr/local/lib/python3.7/dist-packages (from jinja2->spacy<3.4.0,>=3.3.0.dev0->pl-core-news-lg==3.3.0) (2.0.1)\n",
            "Installing collected packages: pl-core-news-lg\n",
            "Successfully installed pl-core-news-lg-3.3.0\n",
            "\u001b[33mWARNING: Running pip as the 'root' user can result in broken permissions and conflicting behaviour with the system package manager. It is recommended to use a virtual environment instead: https://pip.pypa.io/warnings/venv\u001b[0m\u001b[33m\n",
            "\u001b[0m\u001b[38;5;2m✔ Download and installation successful\u001b[0m\n",
            "You can now load the package via spacy.load('pl_core_news_lg')\n",
            "\u001b[33mWARNING: Running pip as the 'root' user can result in broken permissions and conflicting behaviour with the system package manager. It is recommended to use a virtual environment instead: https://pip.pypa.io/warnings/venv\u001b[0m\u001b[33m\n",
            "\u001b[0mLooking in indexes: https://pypi.org/simple, https://us-python.pkg.dev/colab-wheels/public/simple/\n",
            "Processing ./drive/MyDrive/NLP ICM/morfeusz2-1.99.5-20220529-cp310.cp35.cp36.cp37.cp38.cp39-abi3-linux_x86_64.whl\n",
            "morfeusz2 is already installed with the same version as the provided wheel. Use --force-reinstall to force an installation of the wheel.\n",
            "\u001b[33mWARNING: Running pip as the 'root' user can result in broken permissions and conflicting behaviour with the system package manager. It is recommended to use a virtual environment instead: https://pip.pypa.io/warnings/venv\u001b[0m\u001b[33m\n",
            "\u001b[0m"
          ]
        }
      ]
    },
    {
      "cell_type": "code",
      "execution_count": null,
      "metadata": {
        "colab": {
          "base_uri": "https://localhost:8080/"
        },
        "id": "C2XKEwOQsZbR",
        "outputId": "53a36faf-a0bf-4465-ee9f-ca8df6a2c924"
      },
      "outputs": [
        {
          "output_type": "stream",
          "name": "stdout",
          "text": [
            "[nltk_data] Downloading package punkt to /root/nltk_data...\n",
            "[nltk_data]   Package punkt is already up-to-date!\n"
          ]
        }
      ],
      "source": [
        "import pandas as pd\n",
        "import numpy as n\n",
        "import re\n",
        "from unidecode import unidecode\n",
        "\n",
        "import nltk\n",
        "nltk.download('punkt')\n",
        "\n",
        "import spacy\n",
        "nlp = spacy.load(\"pl_core_news_lg\")\n",
        "\n",
        "from sklearn.model_selection import train_test_split\n",
        "\n",
        "import tensorflow as tf\n",
        "import keras_tuner as kt\n",
        "\n",
        "import matplotlib.pyplot as plt\n",
        "\n",
        "import morfeusz2"
      ]
    },
    {
      "cell_type": "code",
      "source": [
        "def plot_graphs(history, metric):\n",
        "  plt.plot(history.history[metric])\n",
        "  plt.plot(history.history['val_'+metric], '')\n",
        "  plt.xlabel(\"Epochs\")\n",
        "  plt.ylabel(metric)\n",
        "  plt.legend([metric, 'val_'+metric])"
      ],
      "metadata": {
        "id": "Q6IqumY7DMsM"
      },
      "execution_count": null,
      "outputs": []
    },
    {
      "cell_type": "markdown",
      "source": [
        "# Data preprocessing"
      ],
      "metadata": {
        "id": "CNs4jGTnA3qX"
      }
    },
    {
      "cell_type": "code",
      "source": [
        "# importing polish stopwords from file and from spacy library\n",
        "stopwordsPath = \"/content/drive/MyDrive/NLP ICM/polish_stopwords.txt\"\n",
        "with open(stopwordsPath, \"r\") as f:\n",
        "  stopwordsLocal = set([re.sub(\"\\s+\", \"\", x) for x in f])\n",
        "\n",
        "morf = morfeusz2.Morfeusz()\n",
        "\n",
        "# preprocessing function\n",
        "\n",
        "def process(sentence):\n",
        "  sentenceTemp = sentence\n",
        "  stopwords = set(nlp.Defaults.stop_words).union(stopwordsLocal)\n",
        "\n",
        "  sentenceTemp = re.sub(r\"e.?mail\", \"email\", sentenceTemp)\n",
        "  sentenceTemp = re.sub(r\"Sp\\. ?z ?o\\.o\\.\", \"spółka\", sentenceTemp)\n",
        "  sentenceTemp = re.sub(r\"ust\\.\", \"ustawa\", sentenceTemp)\n",
        "\n",
        "  # analysis of word using Morfeusz library and encoding to unicode\n",
        "  temp = []\n",
        "  for word in sentenceTemp.split():\n",
        "    analysis = morf.analyse(word)\n",
        "    temp.append(unidecode(analysis[0][2][1]))\n",
        "  \n",
        "  sentenceTemp = \" \".join(temp)\n",
        "\n",
        "  # changing data left from Morfeusz analysis - <word>:asda... to <word>\n",
        "  sentenceTemp = re.sub(\":[^ ]*\", \"\", sentenceTemp)\n",
        "\n",
        "  # punctuation removal\n",
        "  sentenceTemp = re.sub(r\"[^\\w\\s]\", \" \", sentenceTemp)\n",
        "\n",
        "  # numbers deletion\n",
        "  sentenceTemp = re.sub(r\"\\w*\\d\\w*\", \"\", sentenceTemp)\n",
        "\n",
        "  # whitespace characters deletion\n",
        "  sentenceTemp = re.sub(\"\\s+\", \" \", sentenceTemp)\n",
        "\n",
        "  # multiple spaces removal\n",
        "  sentenceTemp = re.sub(r\"[ +]\", \" \", sentenceTemp)\n",
        "\n",
        "  # striping and lowering of letters\n",
        "  temp = []\n",
        "  for word in sentenceTemp.split():\n",
        "    if word.lower() not in stopwords:\n",
        "      temp.append(word.lower().strip())\n",
        "  \n",
        "  sentenceTemp = \" \".join(temp)\n",
        "\n",
        "  return sentenceTemp"
      ],
      "metadata": {
        "id": "hFJFpIApC2OA"
      },
      "execution_count": null,
      "outputs": []
    },
    {
      "cell_type": "code",
      "source": [
        "# loading train and test data\n",
        "dataPath = \"/content/drive/MyDrive/NLP ICM/dane treningowe_I etap.csv\"\n",
        "data = pd.read_csv(dataPath)\n",
        "\n",
        "X = data[\"text\"].to_numpy()\n",
        "Y = data[\"class\"].to_numpy()\n",
        "\n",
        "# data processing and saving it to list\n",
        "X_processed = [process(x) for x in X]\n",
        "Y_processed = [1 if y==\"KLAUZULA_ABUZYWNA\" else 0 for y in Y]\n",
        "\n",
        "\n",
        "labels = {\n",
        "    1: \"KLAUZULA_ABUZYWNA\",\n",
        "    0: \"BEZPIECZNA_KLAUZULA\"\n",
        "}"
      ],
      "metadata": {
        "id": "72XwGP6duqnf"
      },
      "execution_count": null,
      "outputs": []
    },
    {
      "cell_type": "code",
      "source": [
        "# randomly dividing to train and test set\n",
        "test_size = 0.2\n",
        "X_train, X_test, y_train, y_test = train_test_split(X_processed, Y_processed, test_size=test_size)\n",
        "\n",
        "# dividing to validation set (test) and test (test__)\n",
        "X_test, X_test__, y_test, y_test__ = train_test_split(X_test, y_test, test_size=0.25)\n",
        "\n",
        "# example of processed\n",
        "for x, processed_x in zip(X[:15], X_processed[:15]):\n",
        "  print(f\"Before: {x}\")\n",
        "  print(f\"After processing: {processed_x}\")\n",
        "  print()\n"
      ],
      "metadata": {
        "colab": {
          "base_uri": "https://localhost:8080/"
        },
        "id": "CXUdiCgxuInu",
        "outputId": "68c9d2e6-f06b-4186-f56e-713ceb7242bb"
      },
      "execution_count": null,
      "outputs": [
        {
          "output_type": "stream",
          "name": "stdout",
          "text": [
            "Before: Wszelka korespondencja wysyłana przez Pożyczkodawcę na adres zamieszkania podany w umowie oraz na e-mail zostaje uznana za skutecznie doręczoną. Zmiana adresu e-mail oraz adresu zamieszkania musi być dostarczona do Pożyczkodawcy osobiście\n",
            "After processing: wszelki korespondencja wysylac pozyczkodawca adres zamieszkac podac umowa email zostawac uznac skutecznie doreczyc zmiana adres email adres zamieszkac muszy dostarczyc pozyczkodawca osobiscie\n",
            "\n",
            "Before: W przypadku opóźnień Pożyczkobiorcy w spłacie pożyczki Pożyczkodawca ma prawo raz dziennie telefonicznie upomnieć Pożyczkobiorcę do spłaty pożyczki. Za każdy telefon do Pożyczkobiorcy Pożyczkodawca nalicza opłatę w wysokości 100\n",
            "After processing: przypadek opoznienie pozyczkobiorca splat pozyczka pozyczkodawca miec prawo dziennie telefonicznie upomniec pozyczkobiorca splat pozyczka telefon pozyczkobiorca pozyczkodawca naliczac oplata wysokosc\n",
            "\n",
            "Before: W przypadku opóźnień Pożyczkobiorcy w spłacie pożyczki Pożyczkodawca ma prawo wysłać jedno wezwanie dziennie do spłaty pożyczki za pomocą poczty tradycyjnej oraz mailowej na adresy podane w umowie. Za każde wezwanie Pożyczkodawca\n",
            "After processing: przypadek opoznienie pozyczkobiorca splat pozyczka pozyczkodawca miec prawo wyslac wezwac dziennie splat pozyczka pomoc poczt tradycyjny mailowy adres podac umowa wezwac pozyczkodawca\n",
            "\n",
            "Before: Pożyczkobiorca zleca firmie Narodowy Fundusz Pożyczkowy Sp. z o.o. poręczenie swojej pożyczki i zobowiązuje się zapłacić na rzecz Pożyczkodawcy kwotę 1000 zł (słownie: jeden tysiąc złotych) miesięcznie za każdy miesiąc trwania\n",
            "After processing: pozyczkobiorca zlecac firma narodowy fundusz pozyczkowy spolka poreczyc swoj pozyczka zobowiazywac zaplacic rzecz pozyczkodawca kwota zloty tysiac zloty miesiecznie miesiac trwanie\n",
            "\n",
            "Before: Od niespłaconej w terminie raty Pożyczkobiorca zapłaci Pożyczkodawcy opłaty karne w wysokości 200 złotych w stosunku dziennym\n",
            "After processing: oda niesplacony termin rata pozyczkobiorca zaplacic pozyczkodawca oplata karny wysokosc zloty stosunek dzienny\n",
            "\n",
            "Before: Pożyczkobiorca ma prawo wybrać inny sposób przechowania weksla, jednakże z zachowaniem pełnego bezpieczeństwa weksla oraz dostępu przez Pożyczkodawcę do weksla w dowolnym momencie. Pożyczkodawca wymaga wówczas wykupienia przez\n",
            "After processing: pozyczkobiorca miec prawo wybrac przechowac weksel zachowac pelny bezpieczenstwo weksel dostep pozyczkodawca weksel dowolny moment pozyczkodawca wymagac wowczas wykupic\n",
            "\n",
            "Before: W przypadku braku spłaty pożyczki w terminie Pożyczkodawca ma prawo wykorzystać weksel wysyłając go do Sądu z żądaniem zapłaty pełnej sumy z weksla; a także ma prawo sprzedać lub przekazać weksel i prawa z niego wynikające w\n",
            "After processing: przypadek brak splat pozyczka termin pozyczkodawca miec prawo wykorzystac weksel wysylac sad zadac zaplata pelny sum weksel miec prawo sprzedac przekazac weksel prawa wynikac\n",
            "\n",
            "Before: Zabezpieczeniem spłaty pożyczki będzie podpisanie przez Pożyczkobiorcę weksla na dziesięciokrotność kwoty pożyczki. W przypadku terminowej spłaty pożyczki weksel będzie zwrócony Pożyczkobiorcy lub zniszczony przez Pożyczkodawcę\n",
            "After processing: zabezpieczenie splat pozyczka podpisac pozyczkobiorca weksel dziesieciokrotnosc kwota pozyczka przypadek terminowy splat pozyczka weksel zwrocic pozyczkobiorca zniszczony pozyczkodawca\n",
            "\n",
            "Before: Termin zwrotu pożyczki strony ustalają na 01 września 2012 r. , przy czym okres ten może zostać przedłużony maksymalnie do 1 września 2014 r.\n",
            "After processing: termin zwrot pozyczka strona ustalac wrzesnia r okres zostac przedluzyc maksymalnie wrzesnia r\n",
            "\n",
            "Before: Okres trwania pożyczki wynosi 1 miesiąc, przy czym może zostać przedłużana co miesiąc do 24 miesięcy\n",
            "After processing: okres trwanie pozyczka wynosic miesiac zostac przedluzac miesiac miesiac\n",
            "\n",
            "Before: Nabywca oświadcza, że znany jest mu fakt zawarcia umowy określającej sposób zarządu nieruchomością wspólną jako zarząd powierzony i powierzającej ten zarząd . Stosownie do treści art 18 ust. 2 ustawy o własności lokali\n",
            "After processing: nabywca oswiadczac znac fakt zawarcie umowy okreslac zarzad nieruchomosc wspolny zarzad powierzyc powierzac zarzad stosownie tresc art ustawa ustawa wlasnosc lokal\n",
            "\n",
            "Before: Obydwie Strony zachowują w tajemnicy warunki ekonomiczne niniejszej umowy, chyba że ujawnienie tych informacji będzie wymagane na podstawie przepisów lub na żądanie właściwych władz oraz z zastrzeżeniem możliwości ujawnienia tych\n",
            "After processing: obydwa strona zachowywac tajemnica warunki ekonomiczny niniejszy umowy chyba ujawnic informacja wymagac podstawa przepis zadac wlasciwy wladza zastrzezenie mozliwosci ujawnienie\n",
            "\n",
            "Before: W przypadku dokonania przez Nabywcę lub osobę trzecią jakichkolwiek prac dodatkowych, zamiennych w Lokalu, Nabywca traci uprawnienia z rękojmi w zakresie elementów objętych dokonanymi pracami, jak i wywołanych nimi następstw i modyfikacji\n",
            "After processing: przypadek dokonac nabywca osoba trzeci jakikolwiek praca dodatkowy zamienny lokal nabywca tracic uprawnienie rekojmia zakres element objac dokonany praca wywolac nastepstwo modyfikacja\n",
            "\n",
            "Before: Zakres prac wykończeniowych nie powinien naruszać konstrukcji Budynku oraz części wspólnych, a także zmieniać sposobu użytkowania Lokalu, nie powinien również naruszać instalacji i urządzeń z nimi związanych, a w szczególności\n",
            "After processing: zakres praca wykonczeniowy naruszac konstrukcja budynek czesc wspolny zmieniac uzytkowanie lokal naruszac instalacja urzadzenie zwiazany szczegolnosc\n",
            "\n",
            "Before: Nabywca zobowiązuje się do indywidualnego wykończenia Lokalu. Za szkody powstałe w toku indywidualnych prac wykończeniowych odpowiada Kupujący\n",
            "After processing: nabywca zobowiazywac indywidualny wykonczenie lokal szkoda powstaly tok indywidualny praca wykonczeniowy odpowiadac kupujacy\n",
            "\n"
          ]
        }
      ]
    },
    {
      "cell_type": "markdown",
      "source": [
        "# Neural Network Creation\n"
      ],
      "metadata": {
        "id": "cNS00554s3BO"
      }
    },
    {
      "cell_type": "code",
      "source": [
        "train_dataset = tf.data.Dataset.from_tensor_slices((X_train, y_train))\n",
        "test_dataset = tf.data.Dataset.from_tensor_slices((X_test, y_test))\n",
        "test_dataset__ = tf.data.Dataset.from_tensor_slices((X_test__, y_test__))\n",
        "\n",
        "for example, label in train_dataset.take(1):\n",
        "  print('text: ', example.numpy())\n",
        "  print('label: ', label.numpy())"
      ],
      "metadata": {
        "colab": {
          "base_uri": "https://localhost:8080/"
        },
        "id": "6OueUgF6s9Sv",
        "outputId": "a9eb1310-b360-474a-c950-e028a4e2472a"
      },
      "execution_count": null,
      "outputs": [
        {
          "output_type": "stream",
          "name": "stdout",
          "text": [
            "text:  b'dzien opoznienie zaplata oplata szkola pobierac odsetka wysokosc odsetek ustawowy opoznic oda dzien wymagalnosc zaplata dzien zaplata'\n",
            "label:  0\n"
          ]
        }
      ]
    },
    {
      "cell_type": "code",
      "source": [
        "BATCH_SIZE = 64\n",
        "\n",
        "train_dataset = train_dataset.batch(BATCH_SIZE).prefetch(tf.data.AUTOTUNE)\n",
        "test_dataset = test_dataset.batch(BATCH_SIZE).prefetch(tf.data.AUTOTUNE)\n",
        "test_dataset__ = test_dataset__.batch(BATCH_SIZE).prefetch(tf.data.AUTOTUNE)\n",
        "\n",
        "for example, label in train_dataset.take(1):\n",
        "  print('texts: ', example.numpy()[:3])\n",
        "  print()\n",
        "  print('labels: ', label.numpy()[:3])"
      ],
      "metadata": {
        "colab": {
          "base_uri": "https://localhost:8080/"
        },
        "id": "Z0t1zrIr-8VW",
        "outputId": "6096969f-0465-4255-b8af-c0f32b1c0d43"
      },
      "execution_count": null,
      "outputs": [
        {
          "output_type": "stream",
          "name": "stdout",
          "text": [
            "texts:  [b'dzien opoznienie zaplata oplata szkola pobierac odsetka wysokosc odsetek ustawowy opoznic oda dzien wymagalnosc zaplata dzien zaplata'\n",
            " b'termin zachowac odeslac panstwo rzecz uplyw termin dzien panstwo musiec poniesc bezposredni koszt zwrot towar'\n",
            " b'd dzialalnosc gospodarczy szkola dzialalnosc zostac podjac e pozalekcyjny dzialalnosc szkola nadobowiazkowy']\n",
            "\n",
            "labels:  [0 0 0]\n"
          ]
        }
      ]
    },
    {
      "cell_type": "code",
      "source": [
        "# encoder creation\n",
        "VOCAB_SIZE = 2000\n",
        "\n",
        "encoder = tf.keras.layers.TextVectorization(\n",
        "    max_tokens=VOCAB_SIZE)\n",
        "encoder.adapt(train_dataset.map(lambda text, label: text))"
      ],
      "metadata": {
        "id": "kEVdm5iVu4yN"
      },
      "execution_count": null,
      "outputs": []
    },
    {
      "cell_type": "code",
      "source": [
        "def model_builder(hp):\n",
        "  model = tf.keras.Sequential()\n",
        "  \n",
        "  model.add(encoder)\n",
        "\n",
        "  hp_vector_dim = hp.Fixed('embedding_dim', value=128)\n",
        "\n",
        "  model.add(tf.keras.layers.Embedding(\n",
        "        input_dim=len(encoder.get_vocabulary()),\n",
        "        output_dim=hp_vector_dim,\n",
        "        mask_zero=True))\n",
        "\n",
        "  # Tune LSTM layer\n",
        "  hp_units_LSTM = hp.Fixed('units_LSTM', value=64)\n",
        "  hp_dropout = hp.Fixed('dropout_LSTM', value=0.2)\n",
        "  hp_L2 = hp.Fixed('L2_LSTM', value=0.001)\n",
        "  model.add(tf.keras.layers.Bidirectional(tf.keras.layers.LSTM(units=hp_units_LSTM, \n",
        "                                                               kernel_regularizer=tf.keras.regularizers.L2(hp_L2)\n",
        "                                                               )))\n",
        "\n",
        "  # Tune Dense layer\n",
        "  hp_units_DENSE = hp.Fixed('units_DENSE', value=16)\n",
        "  hp_L2_dense = hp.Fixed('L2_DENSE', value=0.001)\n",
        "  model.add(tf.keras.layers.Dense(units=hp_units_DENSE, \n",
        "                                  activation='relu',\n",
        "                                  kernel_regularizer=tf.keras.regularizers.L2(hp_L2_dense)\n",
        "                                  ))\n",
        "\n",
        "  # Last layer\n",
        "  model.add(tf.keras.layers.Dense(1))\n",
        "\n",
        "  # Tune learning rate\n",
        "  hp_learning_rate = hp.Fixed('learning_rate', value=1e-3)\n",
        "\n",
        "  model.compile(optimizer=tf.keras.optimizers.Adam(learning_rate=hp_learning_rate),\n",
        "                loss=tf.keras.losses.BinaryCrossentropy(from_logits=True),\n",
        "                metrics=['accuracy'])\n",
        "\n",
        "  return model\n",
        "\n",
        "# model = tf.keras.Sequential([\n",
        "#     encoder,\n",
        "#     tf.keras.layers.Embedding(\n",
        "#         input_dim=len(encoder.get_vocabulary()),\n",
        "#         output_dim=64,\n",
        "#         # Use masking to handle the variable sequence lengths\n",
        "#         mask_zero=True),\n",
        "#     tf.keras.layers.Bidirectional(tf.keras.layers.LSTM(32)),\n",
        "#     tf.keras.layers.Dense(64, activation='relu'),\n",
        "#     tf.keras.layers.Dense(1)\n",
        "# ])\n",
        "\n",
        "# model.compile(loss=tf.keras.losses.BinaryCrossentropy(from_logits=True),\n",
        "#               optimizer=tf.keras.optimizers.Adam(1e-4),\n",
        "#               metrics=[\"accuracy\"])"
      ],
      "metadata": {
        "id": "eTMvMqgN7Vw4"
      },
      "execution_count": null,
      "outputs": []
    },
    {
      "cell_type": "code",
      "source": [
        "tuner = kt.Hyperband(model_builder,\n",
        "                     objective='val_accuracy',\n",
        "                     max_epochs=10,\n",
        "                     factor=3,\n",
        "                     directory='/content/drive/MyDrive/NLP ICM/HPTuning',\n",
        "                     project_name='NLP_ICM_L2_11')\n",
        "\n",
        "stop_early = tf.keras.callbacks.EarlyStopping(monitor='val_loss', patience=5)\n",
        "                                              \n",
        "tuner.search(train_dataset, epochs=50, validation_data=test_dataset, callbacks=[stop_early])\n",
        "\n",
        "# Get the optimal hyperparameters\n",
        "best_hps=tuner.get_best_hyperparameters(num_trials=1)[0]"
      ],
      "metadata": {
        "colab": {
          "base_uri": "https://localhost:8080/"
        },
        "id": "90hrFni4O8R4",
        "outputId": "591858ba-932f-4c42-ed77-7635eb60c9b2"
      },
      "execution_count": null,
      "outputs": [
        {
          "output_type": "stream",
          "name": "stdout",
          "text": [
            "INFO:tensorflow:Reloading Oracle from existing project /content/drive/MyDrive/NLP ICM/HPTuning/NLP_ICM_L2_11/oracle.json\n",
            "INFO:tensorflow:Reloading Tuner from /content/drive/MyDrive/NLP ICM/HPTuning/NLP_ICM_L2_11/tuner0.json\n",
            "INFO:tensorflow:Oracle triggered exit\n"
          ]
        }
      ]
    },
    {
      "cell_type": "code",
      "source": [
        "model = tuner.hypermodel.build(best_hps)\n",
        "history = model.fit(train_dataset, epochs=10,\n",
        "                    validation_data=test_dataset,\n",
        "                    validation_steps=len(X_test)//BATCH_SIZE,\n",
        "                    batch_size=64)\n",
        "\n",
        "val_acc_per_epoch = history.history['val_accuracy']\n",
        "best_epoch = val_acc_per_epoch.index(max(val_acc_per_epoch)) + 1"
      ],
      "metadata": {
        "colab": {
          "base_uri": "https://localhost:8080/"
        },
        "id": "PReps8mDCOT8",
        "outputId": "e90412d0-4131-4681-b28c-d825b890301a"
      },
      "execution_count": null,
      "outputs": [
        {
          "output_type": "stream",
          "name": "stdout",
          "text": [
            "Epoch 1/10\n",
            "54/54 [==============================] - 21s 81ms/step - loss: 0.8234 - accuracy: 0.5827 - val_loss: 0.5841 - val_accuracy: 0.7766\n",
            "Epoch 2/10\n",
            "54/54 [==============================] - 2s 30ms/step - loss: 0.4604 - accuracy: 0.8240 - val_loss: 0.4476 - val_accuracy: 0.8078\n",
            "Epoch 3/10\n",
            "54/54 [==============================] - 2s 31ms/step - loss: 0.3268 - accuracy: 0.8830 - val_loss: 0.4466 - val_accuracy: 0.8234\n",
            "Epoch 4/10\n",
            "54/54 [==============================] - 2s 31ms/step - loss: 0.2494 - accuracy: 0.9186 - val_loss: 0.5609 - val_accuracy: 0.8219\n",
            "Epoch 5/10\n",
            "54/54 [==============================] - 2s 31ms/step - loss: 0.2019 - accuracy: 0.9405 - val_loss: 0.6231 - val_accuracy: 0.8219\n",
            "Epoch 6/10\n",
            "54/54 [==============================] - 2s 32ms/step - loss: 0.1768 - accuracy: 0.9521 - val_loss: 0.5676 - val_accuracy: 0.8297\n",
            "Epoch 7/10\n",
            "54/54 [==============================] - 2s 30ms/step - loss: 0.1642 - accuracy: 0.9603 - val_loss: 0.4763 - val_accuracy: 0.8422\n",
            "Epoch 8/10\n",
            "54/54 [==============================] - 2s 30ms/step - loss: 0.1333 - accuracy: 0.9720 - val_loss: 0.5877 - val_accuracy: 0.8172\n",
            "Epoch 9/10\n",
            "54/54 [==============================] - 2s 31ms/step - loss: 0.1129 - accuracy: 0.9769 - val_loss: 0.6564 - val_accuracy: 0.7953\n",
            "Epoch 10/10\n",
            "54/54 [==============================] - 2s 31ms/step - loss: 0.0979 - accuracy: 0.9834 - val_loss: 0.6770 - val_accuracy: 0.8203\n"
          ]
        }
      ]
    },
    {
      "cell_type": "code",
      "source": [
        "hypermodel = tuner.hypermodel.build(best_hps)\n",
        "\n",
        "history = hypermodel.fit(train_dataset, epochs=best_epoch,\n",
        "                    validation_data=test_dataset,\n",
        "                    validation_steps=len(X_test)//BATCH_SIZE,\n",
        "                    batch_size=64)"
      ],
      "metadata": {
        "colab": {
          "base_uri": "https://localhost:8080/"
        },
        "id": "2aM6umonZA5b",
        "outputId": "bbb22904-b30d-4513-9d81-4329355e0309"
      },
      "execution_count": null,
      "outputs": [
        {
          "output_type": "stream",
          "name": "stdout",
          "text": [
            "Epoch 1/7\n",
            "54/54 [==============================] - 15s 132ms/step - loss: 0.8186 - accuracy: 0.6198 - val_loss: 0.5638 - val_accuracy: 0.7953\n",
            "Epoch 2/7\n",
            "54/54 [==============================] - 3s 55ms/step - loss: 0.4483 - accuracy: 0.8316 - val_loss: 0.4515 - val_accuracy: 0.8219\n",
            "Epoch 3/7\n",
            "54/54 [==============================] - 2s 45ms/step - loss: 0.3160 - accuracy: 0.8885 - val_loss: 0.4805 - val_accuracy: 0.8234\n",
            "Epoch 4/7\n",
            "54/54 [==============================] - 3s 55ms/step - loss: 0.2576 - accuracy: 0.9136 - val_loss: 0.4808 - val_accuracy: 0.8250\n",
            "Epoch 5/7\n",
            "54/54 [==============================] - 3s 53ms/step - loss: 0.2098 - accuracy: 0.9343 - val_loss: 0.5365 - val_accuracy: 0.8156\n",
            "Epoch 6/7\n",
            "54/54 [==============================] - 2s 30ms/step - loss: 0.1646 - accuracy: 0.9562 - val_loss: 0.5086 - val_accuracy: 0.8328\n",
            "Epoch 7/7\n",
            "54/54 [==============================] - 2s 30ms/step - loss: 0.1378 - accuracy: 0.9682 - val_loss: 0.4944 - val_accuracy: 0.8344\n"
          ]
        }
      ]
    },
    {
      "cell_type": "code",
      "source": [
        "test_loss, test_acc = hypermodel.evaluate(test_dataset)\n",
        "\n",
        "print('Test Loss:', test_loss)\n",
        "print('Test Accuracy:', test_acc)"
      ],
      "metadata": {
        "colab": {
          "base_uri": "https://localhost:8080/"
        },
        "id": "Yew2SGJtCTW7",
        "outputId": "ced08ce0-3869-4da4-b4b9-2042ea26a917"
      },
      "execution_count": null,
      "outputs": [
        {
          "output_type": "stream",
          "name": "stdout",
          "text": [
            "11/11 [==============================] - 0s 10ms/step - loss: 0.4930 - accuracy: 0.8349\n",
            "Test Loss: 0.49298372864723206\n",
            "Test Accuracy: 0.8348909616470337\n"
          ]
        }
      ]
    },
    {
      "cell_type": "code",
      "source": [
        "plt.figure(figsize=(16, 8))\n",
        "plt.subplot(1, 2, 1)\n",
        "plot_graphs(history, 'accuracy')\n",
        "plt.ylim(None, 1)\n",
        "plt.subplot(1, 2, 2)\n",
        "plot_graphs(history, 'loss')\n",
        "plt.ylim(0, None)"
      ],
      "metadata": {
        "colab": {
          "base_uri": "https://localhost:8080/",
          "height": 518
        },
        "id": "xSU7xBOBC9lS",
        "outputId": "4ad381b9-cf8a-4996-ff99-70a0072bbdb1"
      },
      "execution_count": null,
      "outputs": [
        {
          "output_type": "execute_result",
          "data": {
            "text/plain": [
              "(0.0, 0.852649686485529)"
            ]
          },
          "metadata": {},
          "execution_count": 26
        },
        {
          "output_type": "display_data",
          "data": {
            "text/plain": [
              "<Figure size 1152x576 with 2 Axes>"
            ],
            "image/png": "[encoded data removed]"
          },
          "metadata": {
            "needs_background": "light"
          }
        }
      ]
    },
    {
      "cell_type": "markdown",
      "source": [
        "# Model evaluation"
      ],
      "metadata": {
        "id": "vB_xTzgc6qKP"
      }
    },
    {
      "cell_type": "code",
      "source": [
        "test_predict = hypermodel.predict(test_dataset__)\n",
        "prediction = [1 if x > 0.5 else 0 for x in tf.sigmoid(test_predict)]\n",
        "\n",
        "from sklearn.metrics import f1_score, confusion_matrix, ConfusionMatrixDisplay, accuracy_score, roc_curve, auc\n",
        "\n",
        "F1 = f1_score(y_test__, prediction)\n",
        "acc = accuracy_score(y_test__, prediction)\n",
        "cf_matrix = confusion_matrix(y_test__, prediction)\n",
        "\n",
        "fpr_keras, tpr_keras, thresholds_keras = roc_curve(y_test__, prediction)\n",
        "auc_keras = auc(fpr_keras, tpr_keras)\n",
        "\n",
        "ConfusionMatrixDisplay.from_predictions(y_test__, prediction)\n",
        "plt.show()\n",
        "print(f\"F1 score: {F1:.3f}\")\n",
        "print(f\"Accuracy score: {acc:.3f}\")\n",
        "print(f\"auc: {auc_keras:.3f}\")"
      ],
      "metadata": {
        "colab": {
          "base_uri": "https://localhost:8080/",
          "height": 331
        },
        "id": "0hawFsp06udD",
        "outputId": "82b09501-8199-40ee-afac-814f01cb1320"
      },
      "execution_count": null,
      "outputs": [
        {
          "output_type": "display_data",
          "data": {
            "text/plain": [
              "<Figure size 432x288 with 2 Axes>"
            ],
            "image/png": "[encoded data removed]"
          },
          "metadata": {
            "needs_background": "light"
          }
        },
        {
          "output_type": "stream",
          "name": "stdout",
          "text": [
            "F1 score: 0.811\n",
            "Accuracy score: 0.837\n",
            "auc: 0.833\n"
          ]
        }
      ]
    },
    {
      "cell_type": "markdown",
      "source": [
        "# Model evaluation with testing data from GovTech website"
      ],
      "metadata": {
        "id": "9Pm4Lh1y6E7T"
      }
    },
    {
      "cell_type": "code",
      "source": [
        "# loading more test data\n",
        "dataPath = \"/content/drive/MyDrive/NLP ICM/dane testowe z klasami_I etap.csv\"\n",
        "data = pd.read_csv(dataPath)\n",
        "\n",
        "X_TEST = data[\"text\"].to_numpy()\n",
        "Y_TEST = data[\"class\"].to_numpy()\n",
        "\n",
        "# data processing and saving it to list\n",
        "X_TEST_processed = [process(x) for x in X]\n",
        "Y_TEST_processed = [1 if y==\"KLAUZULA_ABUZYWNA\" else 0 for y in Y]\n",
        "\n",
        "TEST_DATASET = tf.data.Dataset.from_tensor_slices((X_TEST_processed, Y_TEST_processed))\n",
        "TEST_DATASET = TEST_DATASET.batch(BATCH_SIZE).prefetch(tf.data.AUTOTUNE)"
      ],
      "metadata": {
        "id": "fXIMYX8y3BKU"
      },
      "execution_count": null,
      "outputs": []
    },
    {
      "cell_type": "code",
      "source": [
        "test_predict = hypermodel.predict(TEST_DATASET)\n",
        "prediction = [1 if x > 0.5 else 0 for x in tf.sigmoid(test_predict)]"
      ],
      "metadata": {
        "id": "rb7wap6J-VxG"
      },
      "execution_count": null,
      "outputs": []
    },
    {
      "cell_type": "code",
      "source": [
        "from sklearn.metrics import f1_score, confusion_matrix, ConfusionMatrixDisplay, accuracy_score\n",
        "\n",
        "F1 = f1_score(Y_TEST_processed, prediction)\n",
        "acc = accuracy_score(Y_TEST_processed, prediction)\n",
        "cf_matrix = confusion_matrix(Y_TEST_processed, prediction)"
      ],
      "metadata": {
        "id": "2_JxTxrr-a3G"
      },
      "execution_count": null,
      "outputs": []
    },
    {
      "cell_type": "code",
      "source": [
        "ConfusionMatrixDisplay.from_predictions(Y_TEST_processed, prediction)\n",
        "plt.show()\n",
        "print(f\"F1 score: {F1:.3f}\")\n",
        "print(f\"Accuracy score: {acc:.3f}\")"
      ],
      "metadata": {
        "colab": {
          "base_uri": "https://localhost:8080/",
          "height": 314
        },
        "id": "rk2a9AUK_pAX",
        "outputId": "bb0ab017-3735-487a-e1a4-4d2dd4cb1696"
      },
      "execution_count": null,
      "outputs": [
        {
          "output_type": "display_data",
          "data": {
            "text/plain": [
              "<Figure size 432x288 with 2 Axes>"
            ],
            "image/png": "[encoded data removed]"
          },
          "metadata": {
            "needs_background": "light"
          }
        },
        {
          "output_type": "stream",
          "name": "stdout",
          "text": [
            "F1 score: 0.948\n",
            "Accuracy score: 0.952\n"
          ]
        }
      ]
    },
    {
      "cell_type": "code",
      "source": [
        ""
      ],
      "metadata": {
        "id": "smIOL3TMlcFw"
      },
      "execution_count": null,
      "outputs": []
    }
  ]
}